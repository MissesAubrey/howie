{
 "cells": [
  {
   "cell_type": "markdown",
   "metadata": {},
   "source": [
    "# Zero shot feelings and needs guesses"
   ]
  },
  {
   "cell_type": "code",
   "execution_count": null,
   "metadata": {},
   "outputs": [],
   "source": [
    "import importlib\n",
    "\n",
    "import numpy as np\n",
    "import tensorflow as tf\n",
    "\n",
    "from transformers import pipeline\n",
    "\n",
    "from howie import feelings, needs"
   ]
  },
  {
   "cell_type": "code",
   "execution_count": null,
   "metadata": {},
   "outputs": [],
   "source": [
    "#boiler plate for limiting allocated GPU memory\n",
    "gpus = tf.config.list_physical_devices('GPU')\n",
    "if gpus:\n",
    "    try:\n",
    "        # Currently, memory growth needs to be the same across GPUs\n",
    "        for gpu in gpus:\n",
    "            tf.config.experimental.set_memory_growth(gpu, True)\n",
    "        logical_gpus = tf.config.experimental.list_logical_devices('GPU')\n",
    "        print(len(gpus), \"Physical GPUs,\", len(logical_gpus), \"Logical GPUs\")\n",
    "    except RuntimeError as e:\n",
    "        # Memory growth must be set before GPUs have been initialized\n",
    "        print(e)\n"
   ]
  },
  {
   "cell_type": "markdown",
   "metadata": {},
   "source": [
    "# Guessing emotions and needs"
   ]
  },
  {
   "cell_type": "code",
   "execution_count": null,
   "metadata": {},
   "outputs": [],
   "source": [
    "importlib.reload(feelings)\n",
    "importlib.reload(needs)"
   ]
  },
  {
   "cell_type": "code",
   "execution_count": null,
   "metadata": {},
   "outputs": [],
   "source": [
    "classifier = pipeline(\"zero-shot-classification\", device=0)"
   ]
  },
  {
   "cell_type": "code",
   "execution_count": null,
   "metadata": {},
   "outputs": [],
   "source": [
    "sequence = \"I haven't eaten all day.\"\n",
    "hypothesis_template = \"I feel {}.\"\n",
    "results = classifier(sequence, feelings.base_feelings, hypothesis_template=hypothesis_template,multi_label=True)\n",
    "results['labels'][:5]"
   ]
  },
  {
   "cell_type": "code",
   "execution_count": null,
   "metadata": {
    "scrolled": false
   },
   "outputs": [],
   "source": [
    "sequence = \"I aced the interview and got the job.\"\n",
    "hypothesis_template = \"I feel {}.\"\n",
    "results = classifier(sequence, feelings.nuanced_feelings, hypothesis_template=hypothesis_template,multi_label=True)\n",
    "results['labels'][:5]"
   ]
  },
  {
   "cell_type": "code",
   "execution_count": null,
   "metadata": {},
   "outputs": [],
   "source": [
    "sequence = \"I aced the interview and got the job.\"\n",
    "hypothesis_template = \"I need {}.\"\n",
    "results = classifier(sequence, needs.needs, hypothesis_template=hypothesis_template,multi_label=True)\n",
    "results['labels'][:5]"
   ]
  },
  {
   "cell_type": "code",
   "execution_count": null,
   "metadata": {},
   "outputs": [],
   "source": []
  },
  {
   "cell_type": "code",
   "execution_count": null,
   "metadata": {},
   "outputs": [],
   "source": [
    "num_feelings = 5\n",
    "sequence = \"You should eat more brussel sprouts.\"\n",
    "#hypothesis_template = \"I feel {}.\"\n",
    "hypothesis_template = \"Am I feeling {}?\"\n",
    "feelings_results = classifier(sequence, feelings.base_feelings, hypothesis_template=hypothesis_template,multi_label=True)\n",
    "feelings_results['labels'][:5]\n",
    "for feeling in feelings_results['labels'][:num_feelings]:\n",
    "    hypothesis_template = \"Am I feeling \" +feeling+ \" because I have a need for {}?\"\n",
    "    need_results = classifier(sequence, needs.needs, hypothesis_template=hypothesis_template,multi_label=True)\n",
    "    print(feeling, need_results['labels'][:3])"
   ]
  },
  {
   "cell_type": "code",
   "execution_count": null,
   "metadata": {},
   "outputs": [],
   "source": [
    "num_feelings = 5\n",
    "num_needs = 5\n",
    "original_sequence = \"Talking with human resources people is really difficult and I'm afraid of being jugdged.\"\n",
    "#hypothesis_template = \"I feel {}.\"\n",
    "hypothesis_template = \"Am I feeling {}?\"\n",
    "feelings_results = classifier(original_sequence, feelings.base_feelings, hypothesis_template=hypothesis_template,multi_label=True)\n",
    "feelings_results['labels'][:5]\n",
    "used_needs = set()\n",
    "for feeling in feelings_results['labels'][:num_feelings]:\n",
    "    sequence = \"When I hear \"+original_sequence+\" do I feel \"+feeling\n",
    "    hypothesis_template = \"because I have a need for {}?\"\n",
    "    need_results = classifier(sequence, needs.needs, hypothesis_template=hypothesis_template,multi_label=True)\n",
    "    used_needs = used_needs.union(need_results['labels'][:num_needs])\n",
    "    #set(used_needs)\n",
    "    print(\"Am I feeling \"+ feeling+\" because I have a need for \",end=\"\")\n",
    "    print(*need_results['labels'][:3],sep=\", \",end=\"\")\n",
    "    print(\", and \" + need_results['labels'][3]+\"?\",sep=\", \")"
   ]
  },
  {
   "cell_type": "code",
   "execution_count": null,
   "metadata": {},
   "outputs": [],
   "source": [
    "num_feelings = 5\n",
    "num_needs = 5\n",
    "original_sequence = \"The little pup came over and started biting my sleeve for food.\"\n",
    "#hypothesis_template = \"I feel {}.\"\n",
    "hypothesis_template = \"Am I feeling {}?\"\n",
    "feelings_results = classifier(original_sequence, feelings.base_feelings, hypothesis_template=hypothesis_template,multi_label=True)\n",
    "feelings_results['labels'][:5]\n",
    "used_needs = set()\n",
    "updated_needs = needs.needs\n",
    "print(\"When I hear \"+ original_sequence + \" do I feel \")\n",
    "for idx, feeling in enumerate(feelings_results['labels'][:num_feelings]):\n",
    "    sequence = \"When I hear \"+original_sequence+\" do I feel \"+feeling\n",
    "    hypothesis_template = \"because I have a need for {}?\"\n",
    "    need_results = classifier(sequence, list(updated_needs), hypothesis_template=hypothesis_template,multi_label=True)\n",
    "    used_needs = used_needs.union(need_results['labels'][:num_needs])\n",
    "    updated_needs = set(needs.needs).difference(used_needs)\n",
    "    print(idx, feeling+\" because I have a need for \",end=\"\")\n",
    "    print(*need_results['labels'][:3],sep=\", \",end=\"\")\n",
    "    print(\", and \" + need_results['labels'][3]+\"?\",sep=\", \")"
   ]
  },
  {
   "cell_type": "code",
   "execution_count": null,
   "metadata": {},
   "outputs": [],
   "source": []
  }
 ],
 "metadata": {
  "kernelspec": {
   "display_name": "Python 3",
   "language": "python",
   "name": "python3"
  },
  "language_info": {
   "codemirror_mode": {
    "name": "ipython",
    "version": 3
   },
   "file_extension": ".py",
   "mimetype": "text/x-python",
   "name": "python",
   "nbconvert_exporter": "python",
   "pygments_lexer": "ipython3",
   "version": "3.8.10"
  }
 },
 "nbformat": 4,
 "nbformat_minor": 2
}
